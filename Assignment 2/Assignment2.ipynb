{
 "cells": [
  {
   "cell_type": "code",
   "execution_count": 1,
   "metadata": {},
   "outputs": [
    {
     "name": "stdout",
     "output_type": "stream",
     "text": [
      "Sum Of List Is:15\n",
      "120\n"
     ]
    }
   ],
   "source": [
    "n=[1,2,3,4,5]\n",
    "\n",
    "def myreduce(function,sequence):\n",
    "    result=sequence[0]\n",
    "    for item in sequence[1:]:\n",
    "        result=function(result,item)\n",
    "    return result\n",
    "\n",
    "def sum(x,y): return x+y\n",
    "\n",
    "print(\"Sum Of List Is:\"+str(myreduce(sum,n)))\n",
    "print(myreduce(lambda x,y:x*y,n))"
   ]
  },
  {
   "cell_type": "code",
   "execution_count": 2,
   "metadata": {},
   "outputs": [
    {
     "name": "stdout",
     "output_type": "stream",
     "text": [
      "Filter For Returning Only Positive Integers[1, 2, 4, 7, 55]\n"
     ]
    }
   ],
   "source": [
    "numbers=[1,2,-3,4,-5,7,-23,55]\n",
    "def myfilter(function,sequence):\n",
    "    result=[]\n",
    "    for item in sequence:\n",
    "        if function(item):\n",
    "            result.append(item)\n",
    "    return result\n",
    "\n",
    "def ispositive(x):\n",
    "    if(x<=0):\n",
    "        return False\n",
    "    else:\n",
    "        return True\n",
    "    \n",
    "print(\"Filter For Returning Only Positive Integers\"+str(myfilter(ispositive,numbers)))"
   ]
  },
  {
   "cell_type": "code",
   "execution_count": 3,
   "metadata": {},
   "outputs": [
    {
     "name": "stdout",
     "output_type": "stream",
     "text": [
      "['A', 'C', 'A', 'D', 'G', 'I', 'L', 'D']\n"
     ]
    }
   ],
   "source": [
    "print([i for i in \"ACADGILD\"])"
   ]
  },
  {
   "cell_type": "code",
   "execution_count": 4,
   "metadata": {},
   "outputs": [
    {
     "name": "stdout",
     "output_type": "stream",
     "text": [
      "['x', 'xx', 'xxx', 'y', 'yy', 'yyy', 'z', 'zz', 'zzz']\n"
     ]
    }
   ],
   "source": [
    "print([i*n for i in \"xyz\" for n in range(1,4)])"
   ]
  },
  {
   "cell_type": "code",
   "execution_count": 5,
   "metadata": {},
   "outputs": [
    {
     "name": "stdout",
     "output_type": "stream",
     "text": [
      "['x', 'y', 'z', 'xx', 'yy', 'zz', 'xxx', 'yyy', 'zzz', 'xxxx', 'yyyy', 'zzzz']\n"
     ]
    }
   ],
   "source": [
    "print([item*num for num in range(1,5) for item in \"xyz\"])"
   ]
  },
  {
   "cell_type": "code",
   "execution_count": 6,
   "metadata": {},
   "outputs": [
    {
     "name": "stdout",
     "output_type": "stream",
     "text": [
      "[[2], [3], [4], [3], [4], [5], [4], [5], [6]]\n"
     ]
    }
   ],
   "source": [
    "print([ [item+num] for item in [2,3,4] for num in range(0,3)])"
   ]
  },
  {
   "cell_type": "code",
   "execution_count": 7,
   "metadata": {},
   "outputs": [
    {
     "name": "stdout",
     "output_type": "stream",
     "text": [
      "[[2, 3, 4, 5], [3, 4, 5, 6], [4, 5, 6, 7], [5, 6, 7, 8]]\n"
     ]
    }
   ],
   "source": [
    "print([ [item+num for item in [2,3,4,5]] for num in range(0,4)  ])"
   ]
  },
  {
   "cell_type": "code",
   "execution_count": 8,
   "metadata": {},
   "outputs": [
    {
     "name": "stdout",
     "output_type": "stream",
     "text": [
      "[(1, 1), (2, 1), (3, 1), (1, 2), (2, 2), (3, 2), (1, 3), (2, 3), (3, 3)]\n"
     ]
    }
   ],
   "source": [
    "print([ (b,a) for a in [1,2,3] for b in [1,2,3]])"
   ]
  },
  {
   "cell_type": "code",
   "execution_count": 9,
   "metadata": {},
   "outputs": [
    {
     "name": "stdout",
     "output_type": "stream",
     "text": [
      "shankar\n"
     ]
    }
   ],
   "source": [
    "from functools import reduce\n",
    "l1=['jay','malde','shankar']\n",
    "def longestWord(word):\n",
    "    return reduce((lambda x,y:y if len(y)>len(x) else x),word)\n",
    "print(longestWord(l1))"
   ]
  },
  {
   "cell_type": "code",
   "execution_count": 10,
   "metadata": {},
   "outputs": [
    {
     "name": "stdout",
     "output_type": "stream",
     "text": [
      "Created Class Triangle With Values : 2 3 4\n",
      "S is : 4.5\n",
      "Area Of Triangle Is : 2.9047375096555625\n"
     ]
    }
   ],
   "source": [
    "class triangle:\n",
    "    def __init__(self,side1,side2,side3):\n",
    "        self.side1=side1\n",
    "        self.side2=side2\n",
    "        self.side3=side3\n",
    "        print(\"Created Class Triangle With Values : {} {} {}\".format(side1,side2,side3))\n",
    "\n",
    "class area_triangle(triangle):\n",
    "    def __init__(self,side1,side2,side3):\n",
    "        super(area_triangle,self).__init__(side1,side2,side3)\n",
    "        \n",
    "    def area_of_triangle(self):\n",
    "        S=(self.side1+self.side2+self.side3)/2\n",
    "        print(\"S is :\",S)\n",
    "        return (S*(S-self.side1)*(S-self.side2)*(S-self.side3))**0.5\n",
    "\n",
    "t=area_triangle(2,3,4)\n",
    "print(\"Area Of Triangle Is :\",t.area_of_triangle())"
   ]
  },
  {
   "cell_type": "code",
   "execution_count": 11,
   "metadata": {},
   "outputs": [
    {
     "name": "stdout",
     "output_type": "stream",
     "text": [
      "Enter Number Of Characters :2\n",
      "['jay', 'malde', 'shankar']\n"
     ]
    }
   ],
   "source": [
    "def filter_long_words(lists):\n",
    "    n=int(input(\"Enter Number Of Characters :\"))\n",
    "    return list(filter(lambda x:len(x) > n, lists))\n",
    "l1=[\"jay\",\"malde\",\"shankar\"]\n",
    "print(filter_long_words(l1))"
   ]
  },
  {
   "cell_type": "code",
   "execution_count": 13,
   "metadata": {},
   "outputs": [
    {
     "name": "stdout",
     "output_type": "stream",
     "text": [
      "Length Of Word Is => [3, 5, 7]\n"
     ]
    }
   ],
   "source": [
    "l1=[\"jay\",\"malde\",\"shankar\"]\n",
    "def wordlength(word):\n",
    "    return [len(i) for i in word]\n",
    "print(\"Length Of Word Is =>\",wordlength(l1))"
   ]
  },
  {
   "cell_type": "code",
   "execution_count": 14,
   "metadata": {},
   "outputs": [
    {
     "name": "stdout",
     "output_type": "stream",
     "text": [
      "Enter character: d\n",
      "d is not a vowel.\n"
     ]
    }
   ],
   "source": [
    "def vowel_check(char):\n",
    "    if(char == 'a' or char == 'e' or char == 'i' or char == 'o' or char == 'u'):\n",
    "        return True\n",
    "    else:\n",
    "        return False\n",
    "\n",
    "char = input(\"Enter character: \");\n",
    "\n",
    "if (char.isalpha() == False):\n",
    "    exit();\n",
    "if (vowel_check(char)):\n",
    "    print(char, \"is a vowel.\");\n",
    "else:\n",
    "    print(char, \"is not a vowel.\"); "
   ]
  },
  {
   "cell_type": "code",
   "execution_count": null,
   "metadata": {},
   "outputs": [],
   "source": []
  },
  {
   "cell_type": "code",
   "execution_count": null,
   "metadata": {},
   "outputs": [],
   "source": []
  },
  {
   "cell_type": "code",
   "execution_count": null,
   "metadata": {},
   "outputs": [],
   "source": []
  },
  {
   "cell_type": "code",
   "execution_count": null,
   "metadata": {},
   "outputs": [],
   "source": []
  }
 ],
 "metadata": {
  "kernelspec": {
   "display_name": "Python 3",
   "language": "python",
   "name": "python3"
  },
  "language_info": {
   "codemirror_mode": {
    "name": "ipython",
    "version": 3
   },
   "file_extension": ".py",
   "mimetype": "text/x-python",
   "name": "python",
   "nbconvert_exporter": "python",
   "pygments_lexer": "ipython3",
   "version": "3.7.4"
  }
 },
 "nbformat": 4,
 "nbformat_minor": 2
}
