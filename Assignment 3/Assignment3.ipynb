{
 "cells": [
  {
   "cell_type": "code",
   "execution_count": 11,
   "metadata": {},
   "outputs": [
    {
     "name": "stdout",
     "output_type": "stream",
     "text": [
      "Handle run-time 'div by 0'error: division by zero\n"
     ]
    }
   ],
   "source": [
    "def div_by_zero():\n",
    "    return 5/0\n",
    "\n",
    "try:\n",
    "    div_by_zero()\n",
    "except ZeroDivisionError as e:\n",
    "    print(\"Handle run-time 'div by 0'error:\", e)\n"
   ]
  },
  {
   "cell_type": "code",
   "execution_count": 12,
   "metadata": {},
   "outputs": [
    {
     "name": "stdout",
     "output_type": "stream",
     "text": [
      "Americans Play Baseball\n",
      "Americans Play cricket\n",
      "Americans watch Baseball\n",
      "Americans watch cricket\n",
      "Indians Play Baseball\n",
      "Indians Play cricket\n",
      "Indians watch Baseball\n",
      "Indians watch cricket\n"
     ]
    }
   ],
   "source": [
    "subject=[\"Americans\", \"Indians\"]\n",
    "verb=[\"Play\", \"watch\"]\n",
    "obj=[\"Baseball\",\"cricket\"]\n",
    "\n",
    "# Use list comprehension instead of looping over each of the predicates\n",
    "sentence_list = [(sub+\" \"+ vb + \" \" + ob) for sub in subject for vb in verb for ob in obj]\n",
    "for sentence in sentence_list:\n",
    " print (sentence)"
   ]
  },
  {
   "cell_type": "code",
   "execution_count": 13,
   "metadata": {},
   "outputs": [
    {
     "name": "stdout",
     "output_type": "stream",
     "text": [
      "----------------OUTPUT-----------------\n",
      "\n",
      "The input array is: [1 2 3 4 5] \n",
      "\n",
      "Number of columns in output matrix should be: 3 \n",
      "\n",
      "Vandermonde matrix of the input array in decreasing order of powers:\n",
      "\n",
      " [[ 1  1  1]\n",
      " [ 4  2  1]\n",
      " [ 9  3  1]\n",
      " [16  4  1]\n",
      " [25  5  1]] \n",
      "\n",
      "Vandermonde matrix of the input array in increasing order of powers:\n",
      "\n",
      " [[ 1  1  1]\n",
      " [ 1  2  4]\n",
      " [ 1  3  9]\n",
      " [ 1  4 16]\n",
      " [ 1  5 25]] \n",
      "\n",
      "---------------------------------------------------------------\n",
      "\n",
      "The input array is: [ 1  2  4  6  8 10] \n",
      "\n",
      "Number of columns in output matrix should be: 3 \n",
      "\n",
      "Vandermonde matrix of the input array in decreasing order of powers:\n",
      "\n",
      " [[  1   1   1]\n",
      " [  4   2   1]\n",
      " [ 16   4   1]\n",
      " [ 36   6   1]\n",
      " [ 64   8   1]\n",
      " [100  10   1]] \n",
      "\n",
      "Vandermonde matrix of the input array in increasing order of powers:\n",
      "\n",
      " [[  1   1   1]\n",
      " [  1   2   4]\n",
      " [  1   4  16]\n",
      " [  1   6  36]\n",
      " [  1   8  64]\n",
      " [  1  10 100]] \n",
      "\n"
     ]
    }
   ],
   "source": [
    "import numpy as np\n",
    "def vandermonde_matrix(ipvector,n,increasing=False):\n",
    "    if not increasing:\n",
    "        op_matx = np.array([x**(n-1-i) for x in ipvector for i in range(n)]).reshape(ipvector.size,n)\n",
    "    elif increasing:\n",
    "        op_matx = np.array([x**i for x in ipvector for i in range(n)]).reshape(ipvector.size,n)\n",
    "    \n",
    "    return op_matx\n",
    "\n",
    "print(\"----------------OUTPUT-----------------\\n\")\n",
    "\n",
    "input_vector = np.array([1,2,3,4,5])\n",
    "no_of_columns = 3\n",
    "\n",
    "print(\"The input array is:\",input_vector,\"\\n\")\n",
    "print(\"Number of columns in output matrix should be:\",no_of_columns,\"\\n\")\n",
    "print(\"Vandermonde matrix of the input array in decreasing order of powers:\\n\\n\",vandermonde_matrix(input_vector,no_of_columns,False),\"\\n\")\n",
    "print(\"Vandermonde matrix of the input array in increasing order of powers:\\n\\n\",vandermonde_matrix(input_vector,no_of_columns,True),\"\\n\")\n",
    "\n",
    "input_vector = np.array([1,2,4,6,8,10])\n",
    "no_col_opmat = 5\n",
    "\n",
    "print(\"---------------------------------------------------------------\\n\")\n",
    "print(\"The input array is:\",input_vector,\"\\n\")\n",
    "print(\"Number of columns in output matrix should be:\",no_of_columns,\"\\n\")\n",
    "print(\"Vandermonde matrix of the input array in decreasing order of powers:\\n\\n\",vandermonde_matrix(input_vector,no_of_columns,False),\"\\n\")\n",
    "print(\"Vandermonde matrix of the input array in increasing order of powers:\\n\\n\",vandermonde_matrix(input_vector,no_of_columns,True),\"\\n\")"
   ]
  },
  {
   "cell_type": "code",
   "execution_count": null,
   "metadata": {},
   "outputs": [],
   "source": []
  }
 ],
 "metadata": {
  "kernelspec": {
   "display_name": "Python 3",
   "language": "python",
   "name": "python3"
  },
  "language_info": {
   "codemirror_mode": {
    "name": "ipython",
    "version": 3
   },
   "file_extension": ".py",
   "mimetype": "text/x-python",
   "name": "python",
   "nbconvert_exporter": "python",
   "pygments_lexer": "ipython3",
   "version": "3.7.4"
  }
 },
 "nbformat": 4,
 "nbformat_minor": 2
}
